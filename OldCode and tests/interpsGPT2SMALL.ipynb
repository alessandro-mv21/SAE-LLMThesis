{
 "cells": [
  {
   "cell_type": "markdown",
   "metadata": {},
   "source": [
    "# Setup & imports"
   ]
  },
  {
   "cell_type": "code",
   "execution_count": 1,
   "metadata": {},
   "outputs": [],
   "source": [
    "import pandas as pd\n",
    "import numpy as np\n",
    "import os\n",
    "from pathlib import Path"
   ]
  },
  {
   "cell_type": "markdown",
   "metadata": {},
   "source": [
    "# Creazione di un dataset che contiene le interpretazioni delle features"
   ]
  },
  {
   "cell_type": "code",
   "execution_count": 3,
   "metadata": {},
   "outputs": [],
   "source": [
    "INTERPS_PATH = './interps/gpt2_interps.json'\n",
    "\n",
    "class interpretationsDataset:\n",
    "    interps_df: pd.DataFrame\n",
    "    def __init__(self, sae_dim: int):\n",
    "        if os.path.exists(INTERPS_PATH):\n",
    "            self.load_df()\n",
    "        else:\n",
    "            feats = list(range(sae_dim))\n",
    "            self.interps_dict = {feat: \"\" for feat in feats}\n",
    "            self.interps_df =  pd.DataFrame.from_dict(self.interps_dict, orient='index', columns=['interpretation'])\n",
    "            print(f'Json does not exist, creating it at {INTERPS_PATH}')\n",
    "            os.makedirs(os.path.dirname(INTERPS_PATH), exist_ok=True)\n",
    "            with open(INTERPS_PATH, 'w') as f:\n",
    "                f.write('{}')\n",
    "            self.save_df()\n",
    "\n",
    "    def add_interpretation(self, feat: int, interp: str):\n",
    "        self.interps_df.loc[feat] = interp\n",
    "        self.save_df()\n",
    "    def non_empty_interps(self):\n",
    "        return self.interps_df[self.interps_df['interpretation'] != \"\"]\n",
    "    def save_df(self):\n",
    "        self.interps_df.to_json(INTERPS_PATH)\n",
    "    def load_df(self):\n",
    "        self.interps_df = pd.read_json(INTERPS_PATH)"
   ]
  },
  {
   "cell_type": "code",
   "execution_count": 4,
   "metadata": {},
   "outputs": [],
   "source": [
    "sae_dim = 768*32\n",
    "\n",
    "interps = interpretationsDataset(sae_dim)"
   ]
  },
  {
   "cell_type": "code",
   "execution_count": 56,
   "metadata": {},
   "outputs": [],
   "source": [
    "interps.add_interpretation(\n",
    "    12585,\n",
    "    \"The verb to see, mostly in the form see\"\n",
    ")"
   ]
  },
  {
   "cell_type": "code",
   "execution_count": 5,
   "metadata": {},
   "outputs": [
    {
     "data": {
      "text/html": [
       "<div>\n",
       "<style scoped>\n",
       "    .dataframe tbody tr th:only-of-type {\n",
       "        vertical-align: middle;\n",
       "    }\n",
       "\n",
       "    .dataframe tbody tr th {\n",
       "        vertical-align: top;\n",
       "    }\n",
       "\n",
       "    .dataframe thead th {\n",
       "        text-align: right;\n",
       "    }\n",
       "</style>\n",
       "<table border=\"1\" class=\"dataframe\">\n",
       "  <thead>\n",
       "    <tr style=\"text-align: right;\">\n",
       "      <th></th>\n",
       "      <th>interpretation</th>\n",
       "    </tr>\n",
       "  </thead>\n",
       "  <tbody>\n",
       "    <tr>\n",
       "      <th>6190</th>\n",
       "      <td>Tools for carpentry use like hammers saws etc</td>\n",
       "    </tr>\n",
       "    <tr>\n",
       "      <th>12585</th>\n",
       "      <td>The verb to see, mostly in the form see</td>\n",
       "    </tr>\n",
       "  </tbody>\n",
       "</table>\n",
       "</div>"
      ],
      "text/plain": [
       "                                      interpretation\n",
       "6190   Tools for carpentry use like hammers saws etc\n",
       "12585        The verb to see, mostly in the form see"
      ]
     },
     "execution_count": 5,
     "metadata": {},
     "output_type": "execute_result"
    }
   ],
   "source": [
    "interps.non_empty_interps()"
   ]
  },
  {
   "cell_type": "code",
   "execution_count": null,
   "metadata": {},
   "outputs": [],
   "source": []
  }
 ],
 "metadata": {
  "kernelspec": {
   "display_name": "LLama",
   "language": "python",
   "name": "python3"
  },
  "language_info": {
   "codemirror_mode": {
    "name": "ipython",
    "version": 3
   },
   "file_extension": ".py",
   "mimetype": "text/x-python",
   "name": "python",
   "nbconvert_exporter": "python",
   "pygments_lexer": "ipython3",
   "version": "3.11.10"
  }
 },
 "nbformat": 4,
 "nbformat_minor": 2
}
